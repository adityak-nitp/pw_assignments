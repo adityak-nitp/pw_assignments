{
 "cells": [
  {
   "cell_type": "markdown",
   "id": "5993da88-9ac3-4670-a77b-2219e17604ae",
   "metadata": {},
   "source": [
    "### Q1. Who developed python programming language?\n",
    "Answer- Python programming was designed by Guido van Rossum in 1991 and developed by Python Software Foundation. Guido Van Rossum started doing its application-based work in December of 1989 at Centrum Wiskunde & Informatica (CWI) which is situated in the Netherlands."
   ]
  },
  {
   "cell_type": "markdown",
   "id": "45bf1e47-5e04-42c5-92e5-9459396dc6c8",
   "metadata": {},
   "source": [
    "### Q2. Which type of Programming does python support?\n",
    "Ans-Python is an interpreted programming language, supports object-oriented, structured, and functional programming.\n",
    "It is a high-level and general programming language. It is a very lucid programming language due to a good language construct and object-oriented approach. It is dynamically typed and garbage-collected."
   ]
  },
  {
   "cell_type": "markdown",
   "id": "332bf412-5d3b-45a5-a61b-104c3621eb94",
   "metadata": {},
   "source": [
    "### Q3. Is Python case sensitive when dealing with identifiers?\n",
    "Ans-Yes, Python is case sensitive. It treats uppercase and lowercase character differently.This is applicable for identifiers. Same name with different cases must be avoided while naming identifiers. for example, if we have to store counts of values, we should name the variables count1 and count2 instead of naming the C and c."
   ]
  },
  {
   "cell_type": "markdown",
   "id": "7f8e12a7-a5d4-4b88-9ec7-36e79b7fe6a4",
   "metadata": {},
   "source": [
    "### Q4.What is the correct extension of the Python file?\n",
    "Ans- There are different extension for Python Programming language such as .pyz, .pyd, .pyw, .pyo, .pyc, .pyi, .py and when it comes to executing python programs, these extension files have their own significance."
   ]
  },
  {
   "cell_type": "markdown",
   "id": "f28cdb65-83cc-4339-9198-ebb082e42476",
   "metadata": {},
   "source": [
    "### Q5. Is Python code compiled or interpreted?\n",
    "Ans- Python codes are interpreted because python is an interpreted language, which means the python codes are executed line by line without compiling them into the machine instructions."
   ]
  },
  {
   "cell_type": "markdown",
   "id": "d61b0c1e-91ab-4de2-b35a-797b4ba6efd7",
   "metadata": {},
   "source": [
    "### Q6. Name a few blocks of code used to define in Python language?\n",
    "Ans- In Python, blocks of code are defined using indentation. Some common blocks of code include:\n",
    "\n",
    "Functions: defined using the \"def\" keyword, followed by the function name and parentheses that enclose the function arguments.\n",
    "\n",
    "Loops: for loops and while loops, which allow code to repeat until a condition is met.\n",
    "\n",
    "Conditional statements: if-elif-else blocks, which allow code to execute based on a set of conditions.\n",
    "\n",
    "Classes: defined using the \"class\" keyword, followed by the class name. Classes define objects and the methods associated with them.\n",
    "\n",
    "Context managers: defined using the \"with\" keyword, followed by a statement that creates a context, such as opening a file. The code inside the with block is executed within the context."
   ]
  },
  {
   "cell_type": "markdown",
   "id": "a57c6f10-2483-48fe-a734-b2da4d596658",
   "metadata": {},
   "source": [
    "### Q7.State character used to give single-line comments in Python?\n",
    "Ans- Hash character (#) is used to comment the line in the python program. This line in the code is not executed, it is just for the understanding of the code for the programmers."
   ]
  },
  {
   "cell_type": "markdown",
   "id": "d81d5aa8-17f5-4e0c-9151-e2b6726de10d",
   "metadata": {},
   "source": [
    "### Q8. Mention functions which can help us to find the version of python that we are currently working on?\n",
    "Ans- For finding the version of python that we are working on,the function sys.version is used. For example, 3.5.2, 2.7.3 etc. this function also returns the current date, time, bits etc along with the version."
   ]
  },
  {
   "cell_type": "markdown",
   "id": "355ab902-1755-41e3-98c2-9a03c28ad514",
   "metadata": {},
   "source": [
    "### Q9. Python supports the creation of anonymous functions at runtime , using a construct called ____________?\n",
    "Ans- Lambda function, it is an anonymous function which has no name and can be used only one time. For example-\n",
    "\n",
    "x = lambda a : a + 10\n",
    "print(x(5))"
   ]
  },
  {
   "cell_type": "markdown",
   "id": "5a7fdf19-bada-494f-a6e2-f89bc1ac3b79",
   "metadata": {},
   "source": [
    "### Q10. What does pip stand for python?\n",
    "Ans - pip stands for Preferred Installer Program. It is a package manager for Pyhton that helps to install different libraries and packages that are not already installed."
   ]
  },
  {
   "cell_type": "markdown",
   "id": "c8cee128-f31f-46b1-afd4-000af87c7609",
   "metadata": {},
   "source": [
    "### Q11. Mention a few built-in functions in python?\n",
    "Ans- Those functions which are predefined by the python interpreter are called built-in function. There are 68 built in functions in python.\n",
    "Some widely used built-in functions are\n",
    "print(), type(), input(), len(), sum(), pow() etc."
   ]
  },
  {
   "cell_type": "markdown",
   "id": "5c6262bb-9a0d-49d8-9aaa-b5cb70b72d79",
   "metadata": {},
   "source": [
    "### Q12. What is the maximum possible length of an identifier in python?\n",
    "\n",
    "Ans- The maximum possible length of an identifiers can be 79 characters."
   ]
  },
  {
   "cell_type": "markdown",
   "id": "08aa5349-5e26-4765-a9f9-49689fbf646b",
   "metadata": {},
   "source": [
    "### Q13. What are the benefits of using Python?\n",
    "Ans- Python is one of the most widely used general purpose, high-level, dynamically typed and interpreted programming language in the world. Python is user friendly, simple to use and understand unlike other programing languages.It is free and open source programming language. Users can download the source code, modify it, and even distribute their Python version. It has extensive library, portability, supportive community."
   ]
  },
  {
   "cell_type": "markdown",
   "id": "de051831-dd61-46a1-9a85-34c779d15f81",
   "metadata": {},
   "source": [
    "### Q14. How is memory managed in Python?\n",
    "Ans - Memory allocation can be defined as allocating a block of space in the computer memory to a program.In Python, memory management is performed automatically by the Python memory manager, which is a component of the Python interpreter. The memory manager handles the allocation and freeing of memory by Python objects and data structures, as well as the management of memory used by Python itself. Python uses a technique called reference counting to keep track of the number of references to an object, and when the reference count reaches zero, the memory occupied by that object is automatically freed. The memory manager also employs a garbage collector, which periodically frees up memory occupied by unreachable objects."
   ]
  },
  {
   "cell_type": "markdown",
   "id": "74c304f1-a653-4c27-a0f6-d8cc66a12833",
   "metadata": {},
   "source": [
    "### Q15. How to install Python on Windows and set path variables?\n",
    "Ans - Python can be installed into a PC after downloading it form the link https://www.python.org/downloads/. Then, we have to look for the location where python has been installed using tge following command on our command prompt: cmd python.\n",
    "Then we need to go to advanced system settings and add new variable and name it as PYTHON_NAME and paste the copied path.\n",
    "Then look for the path variable, select it's value and select edit\n",
    "Add a semicolon towards the end of the value if it's not present and then type %PYTHON_HOME%"
   ]
  },
  {
   "cell_type": "markdown",
   "id": "2173c2c7-7495-4787-8d87-3f35638ca942",
   "metadata": {},
   "source": [
    "### Q16. Is indentation required in python?\n",
    "Ans - Indentation is very important in python. It is used to indicate a block of code and it comes after colon usually."
   ]
  },
  {
   "cell_type": "code",
   "execution_count": null,
   "id": "6e94c221-b9bc-4403-b9a1-dcb1862f3d26",
   "metadata": {},
   "outputs": [],
   "source": []
  }
 ],
 "metadata": {
  "kernelspec": {
   "display_name": "Python 3 (ipykernel)",
   "language": "python",
   "name": "python3"
  },
  "language_info": {
   "codemirror_mode": {
    "name": "ipython",
    "version": 3
   },
   "file_extension": ".py",
   "mimetype": "text/x-python",
   "name": "python",
   "nbconvert_exporter": "python",
   "pygments_lexer": "ipython3",
   "version": "3.10.8"
  }
 },
 "nbformat": 4,
 "nbformat_minor": 5
}
